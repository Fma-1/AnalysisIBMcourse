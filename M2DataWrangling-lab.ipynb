{
 "cells": [
  {
   "cell_type": "markdown",
   "metadata": {},
   "source": [
    "<p style=\"text-align:center\">\n",
    "    <a href=\"https://skills.network/?utm_medium=Exinfluencer&utm_source=Exinfluencer&utm_content=000026UJ&utm_term=10006555&utm_id=NA-SkillsNetwork-Channel-SkillsNetworkCoursesIBMDA0321ENSkillsNetwork928-2022-01-01\" target=\"_blank\">\n",
    "    <img src=\"https://cf-courses-data.s3.us.cloud-object-storage.appdomain.cloud/assets/logos/SN_web_lightmode.png\" width=\"200\" alt=\"Skills Network Logo\"  />\n",
    "    </a>\n",
    "</p>\n"
   ]
  },
  {
   "cell_type": "markdown",
   "metadata": {},
   "source": [
    "# **Data Wrangling Lab**\n"
   ]
  },
  {
   "cell_type": "markdown",
   "metadata": {},
   "source": [
    "Estimated time needed: **45 to 60** minutes\n"
   ]
  },
  {
   "cell_type": "markdown",
   "metadata": {},
   "source": [
    "In this assignment you will be performing data wrangling.\n"
   ]
  },
  {
   "cell_type": "markdown",
   "metadata": {},
   "source": [
    "## Objectives\n"
   ]
  },
  {
   "cell_type": "markdown",
   "metadata": {},
   "source": [
    "In this lab you will perform the following:\n"
   ]
  },
  {
   "cell_type": "markdown",
   "metadata": {},
   "source": [
    "-   Identify duplicate values in the dataset.\n",
    "\n",
    "-   Remove duplicate values from the dataset.\n",
    "\n",
    "-   Identify missing values in the dataset.\n",
    "\n",
    "-   Impute the missing values in the dataset.\n",
    "\n",
    "-   Normalize data in the dataset.\n"
   ]
  },
  {
   "cell_type": "markdown",
   "metadata": {},
   "source": [
    "<hr>\n"
   ]
  },
  {
   "cell_type": "markdown",
   "metadata": {},
   "source": [
    "## Hands on Lab\n"
   ]
  },
  {
   "cell_type": "markdown",
   "metadata": {},
   "source": [
    "Import pandas module.\n"
   ]
  },
  {
   "cell_type": "code",
   "execution_count": 3,
   "metadata": {
    "tags": []
   },
   "outputs": [],
   "source": [
    "import pandas as pd"
   ]
  },
  {
   "cell_type": "markdown",
   "metadata": {},
   "source": [
    "Load the dataset into a dataframe.\n"
   ]
  },
  {
   "cell_type": "code",
   "execution_count": 4,
   "metadata": {
    "tags": []
   },
   "outputs": [],
   "source": [
    "df = pd.read_csv(\"https://cf-courses-data.s3.us.cloud-object-storage.appdomain.cloud/IBM-DA0321EN-SkillsNetwork/LargeData/m1_survey_data.csv\")"
   ]
  },
  {
   "cell_type": "markdown",
   "metadata": {},
   "source": [
    "## Finding duplicates\n"
   ]
  },
  {
   "cell_type": "markdown",
   "metadata": {},
   "source": [
    "In this section you will identify duplicate values in the dataset.\n"
   ]
  },
  {
   "cell_type": "markdown",
   "metadata": {},
   "source": [
    " Find how many duplicate rows exist in the dataframe.\n"
   ]
  },
  {
   "cell_type": "code",
   "execution_count": 5,
   "metadata": {
    "tags": []
   },
   "outputs": [
    {
     "data": {
      "text/plain": [
       "False    11398\n",
       "True       154\n",
       "dtype: int64"
      ]
     },
     "execution_count": 5,
     "metadata": {},
     "output_type": "execute_result"
    }
   ],
   "source": [
    "# your code goes here\n",
    "df.duplicated().value_counts()\n"
   ]
  },
  {
   "cell_type": "code",
   "execution_count": 6,
   "metadata": {
    "tags": []
   },
   "outputs": [
    {
     "data": {
      "text/plain": [
       "False    11398\n",
       "True       154\n",
       "Name: Respondent, dtype: int64"
      ]
     },
     "execution_count": 6,
     "metadata": {},
     "output_type": "execute_result"
    }
   ],
   "source": [
    "df['Respondent'].duplicated().value_counts()"
   ]
  },
  {
   "cell_type": "markdown",
   "metadata": {},
   "source": [
    "## Removing duplicates\n"
   ]
  },
  {
   "cell_type": "markdown",
   "metadata": {},
   "source": [
    "Remove the duplicate rows from the dataframe.\n"
   ]
  },
  {
   "cell_type": "code",
   "execution_count": 85,
   "metadata": {
    "tags": []
   },
   "outputs": [],
   "source": [
    "# your code goes here\n",
    "df1 = df.drop_duplicates()"
   ]
  },
  {
   "cell_type": "code",
   "execution_count": 86,
   "metadata": {
    "tags": []
   },
   "outputs": [
    {
     "data": {
      "text/plain": [
       "False    11398\n",
       "Name: Respondent, dtype: int64"
      ]
     },
     "execution_count": 86,
     "metadata": {},
     "output_type": "execute_result"
    }
   ],
   "source": [
    "df1['Respondent'].duplicated().value_counts()"
   ]
  },
  {
   "cell_type": "markdown",
   "metadata": {},
   "source": [
    "Verify if duplicates were actually dropped.\n"
   ]
  },
  {
   "cell_type": "code",
   "execution_count": 87,
   "metadata": {
    "tags": []
   },
   "outputs": [
    {
     "data": {
      "text/plain": [
       "False    11398\n",
       "dtype: int64"
      ]
     },
     "execution_count": 87,
     "metadata": {},
     "output_type": "execute_result"
    }
   ],
   "source": [
    "# your code goes here\n",
    "df1.duplicated().value_counts()\n"
   ]
  },
  {
   "cell_type": "markdown",
   "metadata": {},
   "source": [
    "## Finding Missing values\n"
   ]
  },
  {
   "cell_type": "markdown",
   "metadata": {},
   "source": [
    "Find the missing values for all columns.\n"
   ]
  },
  {
   "cell_type": "code",
   "execution_count": 88,
   "metadata": {
    "tags": []
   },
   "outputs": [
    {
     "name": "stdout",
     "output_type": "stream",
     "text": [
      "Respondent\n",
      "0\n",
      "\n",
      "MainBranch\n",
      "0\n",
      "\n",
      "Hobbyist\n",
      "0\n",
      "\n",
      "OpenSourcer\n",
      "0\n",
      "\n",
      "OpenSource\n",
      "81\n",
      "\n",
      "Employment\n",
      "0\n",
      "\n",
      "Country\n",
      "0\n",
      "\n",
      "Student\n",
      "51\n",
      "\n",
      "EdLevel\n",
      "112\n",
      "\n",
      "UndergradMajor\n",
      "737\n",
      "\n",
      "EduOther\n",
      "164\n",
      "\n",
      "OrgSize\n",
      "96\n",
      "\n",
      "DevType\n",
      "65\n",
      "\n",
      "YearsCode\n",
      "9\n",
      "\n",
      "Age1stCode\n",
      "13\n",
      "\n",
      "YearsCodePro\n",
      "16\n",
      "\n",
      "CareerSat\n",
      "0\n",
      "\n",
      "JobSat\n",
      "1\n",
      "\n",
      "MgrIdiot\n",
      "493\n",
      "\n",
      "MgrMoney\n",
      "497\n",
      "\n",
      "MgrWant\n",
      "493\n",
      "\n",
      "JobSeek\n",
      "0\n",
      "\n",
      "LastHireDate\n",
      "0\n",
      "\n",
      "LastInt\n",
      "413\n",
      "\n",
      "FizzBuzz\n",
      "37\n",
      "\n",
      "JobFactors\n",
      "3\n",
      "\n",
      "ResumeUpdate\n",
      "39\n",
      "\n",
      "CurrencySymbol\n",
      "0\n",
      "\n",
      "CurrencyDesc\n",
      "0\n",
      "\n",
      "CompTotal\n",
      "809\n",
      "\n",
      "CompFreq\n",
      "206\n",
      "\n",
      "ConvertedComp\n",
      "816\n",
      "\n",
      "WorkWeekHrs\n",
      "122\n",
      "\n",
      "WorkPlan\n",
      "121\n",
      "\n",
      "WorkChallenge\n",
      "164\n",
      "\n",
      "WorkRemote\n",
      "8\n",
      "\n",
      "WorkLoc\n",
      "32\n",
      "\n",
      "ImpSyn\n",
      "5\n",
      "\n",
      "CodeRev\n",
      "1\n",
      "\n",
      "CodeRevHrs\n",
      "2426\n",
      "\n",
      "UnitTests\n",
      "29\n",
      "\n",
      "PurchaseHow\n",
      "196\n",
      "\n",
      "PurchaseWhat\n",
      "38\n",
      "\n",
      "LanguageWorkedWith\n",
      "11\n",
      "\n",
      "LanguageDesireNextYear\n",
      "134\n",
      "\n",
      "DatabaseWorkedWith\n",
      "453\n",
      "\n",
      "DatabaseDesireNextYear\n",
      "1042\n",
      "\n",
      "PlatformWorkedWith\n",
      "411\n",
      "\n",
      "PlatformDesireNextYear\n",
      "544\n",
      "\n",
      "WebFrameWorkedWith\n",
      "1393\n",
      "\n",
      "WebFrameDesireNextYear\n",
      "1617\n",
      "\n",
      "MiscTechWorkedWith\n",
      "2182\n",
      "\n",
      "MiscTechDesireNextYear\n",
      "1455\n",
      "\n",
      "DevEnviron\n",
      "29\n",
      "\n",
      "OpSys\n",
      "34\n",
      "\n",
      "Containers\n",
      "82\n",
      "\n",
      "BlockchainOrg\n",
      "2322\n",
      "\n",
      "BlockchainIs\n",
      "2610\n",
      "\n",
      "BetterLife\n",
      "98\n",
      "\n",
      "ITperson\n",
      "35\n",
      "\n",
      "OffOn\n",
      "38\n",
      "\n",
      "SocialMedia\n",
      "293\n",
      "\n",
      "Extraversion\n",
      "20\n",
      "\n",
      "ScreenName\n",
      "507\n",
      "\n",
      "SOVisit1st\n",
      "325\n",
      "\n",
      "SOVisitFreq\n",
      "5\n",
      "\n",
      "SOVisitTo\n",
      "1\n",
      "\n",
      "SOFindAnswer\n",
      "3\n",
      "\n",
      "SOTimeSaved\n",
      "50\n",
      "\n",
      "SOHowMuchTime\n",
      "1917\n",
      "\n",
      "SOAccount\n",
      "1\n",
      "\n",
      "SOPartFreq\n",
      "1128\n",
      "\n",
      "SOJobs\n",
      "6\n",
      "\n",
      "EntTeams\n",
      "5\n",
      "\n",
      "SOComm\n",
      "0\n",
      "\n",
      "WelcomeChange\n",
      "85\n",
      "\n",
      "SONewContent\n",
      "1965\n",
      "\n",
      "Age\n",
      "287\n",
      "\n",
      "Gender\n",
      "73\n",
      "\n",
      "Trans\n",
      "123\n",
      "\n",
      "Sexuality\n",
      "542\n",
      "\n",
      "Ethnicity\n",
      "675\n",
      "\n",
      "Dependents\n",
      "140\n",
      "\n",
      "SurveyLength\n",
      "19\n",
      "\n",
      "SurveyEase\n",
      "14\n",
      "\n"
     ]
    }
   ],
   "source": [
    "# your code goes here\n",
    "#df1.isnull().sum()\n",
    "for column in df1.columns.values.tolist():\n",
    "    print(column)\n",
    "    print (df1[column].isnull().sum())\n",
    "    print(\"\")"
   ]
  },
  {
   "cell_type": "markdown",
   "metadata": {},
   "source": [
    "Find out how many rows are missing in the column 'WorkLoc'\n"
   ]
  },
  {
   "cell_type": "code",
   "execution_count": 89,
   "metadata": {
    "tags": []
   },
   "outputs": [
    {
     "data": {
      "text/plain": [
       "WorkLoc    32\n",
       "dtype: int64"
      ]
     },
     "execution_count": 89,
     "metadata": {},
     "output_type": "execute_result"
    }
   ],
   "source": [
    "# your code goes here\n",
    "df1[['WorkLoc']].isnull().sum()"
   ]
  },
  {
   "cell_type": "markdown",
   "metadata": {},
   "source": [
    "## Imputing missing values\n"
   ]
  },
  {
   "cell_type": "markdown",
   "metadata": {},
   "source": [
    "Find the  value counts for the column WorkLoc.\n"
   ]
  },
  {
   "cell_type": "code",
   "execution_count": 90,
   "metadata": {
    "tags": []
   },
   "outputs": [
    {
     "data": {
      "text/plain": [
       "'Office'"
      ]
     },
     "execution_count": 90,
     "metadata": {},
     "output_type": "execute_result"
    }
   ],
   "source": [
    "# your code goes here\n",
    "df1['WorkLoc'].value_counts().idxmax()\n",
    "#df1['UndergradMajor'].value_counts()\n"
   ]
  },
  {
   "cell_type": "markdown",
   "metadata": {},
   "source": [
    "Identify the value that is most frequent (majority) in the WorkLoc column.\n"
   ]
  },
  {
   "cell_type": "code",
   "execution_count": 13,
   "metadata": {
    "tags": []
   },
   "outputs": [],
   "source": [
    "#make a note of the majority value here, for future reference\n",
    "#Office                                            "
   ]
  },
  {
   "cell_type": "markdown",
   "metadata": {},
   "source": [
    "Impute (replace) all the empty rows in the column WorkLoc with the value that you have identified as majority.\n"
   ]
  },
  {
   "cell_type": "code",
   "execution_count": 92,
   "metadata": {
    "tags": []
   },
   "outputs": [],
   "source": [
    "# your code goes here\n",
    "import numpy as np\n",
    "\n",
    "df1['WorkLoc'].replace(np.nan, 'Office', inplace=True)"
   ]
  },
  {
   "cell_type": "markdown",
   "metadata": {},
   "source": [
    "After imputation there should ideally not be any empty rows in the WorkLoc column.\n"
   ]
  },
  {
   "cell_type": "markdown",
   "metadata": {},
   "source": [
    "Verify if imputing was successful.\n"
   ]
  },
  {
   "cell_type": "code",
   "execution_count": 93,
   "metadata": {
    "tags": []
   },
   "outputs": [
    {
     "data": {
      "text/plain": [
       "WorkLoc    0\n",
       "dtype: int64"
      ]
     },
     "execution_count": 93,
     "metadata": {},
     "output_type": "execute_result"
    }
   ],
   "source": [
    "# your code goes here\n",
    "df1[['WorkLoc']].isnull().sum()"
   ]
  },
  {
   "cell_type": "markdown",
   "metadata": {},
   "source": [
    "## Normalizing data\n"
   ]
  },
  {
   "cell_type": "markdown",
   "metadata": {},
   "source": [
    "There are two columns in the dataset that talk about compensation.\n",
    "\n",
    "One is \"CompFreq\". This column shows how often a developer is paid (Yearly, Monthly, Weekly).\n",
    "\n",
    "The other is \"CompTotal\". This column talks about how much the developer is paid per Year, Month, or Week depending upon his/her \"CompFreq\". \n",
    "\n",
    "This makes it difficult to compare the total compensation of the developers.\n",
    "\n",
    "In this section you will create a new column called 'NormalizedAnnualCompensation' which contains the 'Annual Compensation' irrespective of the 'CompFreq'.\n",
    "\n",
    "Once this column is ready, it makes comparison of salaries easy.\n"
   ]
  },
  {
   "cell_type": "markdown",
   "metadata": {},
   "source": [
    "<hr>\n"
   ]
  },
  {
   "cell_type": "markdown",
   "metadata": {},
   "source": [
    "List out the various categories in the column 'CompFreq'\n"
   ]
  },
  {
   "cell_type": "code",
   "execution_count": 94,
   "metadata": {
    "tags": []
   },
   "outputs": [
    {
     "data": {
      "text/plain": [
       "Yearly     6073\n",
       "Monthly    4788\n",
       "Weekly      331\n",
       "Name: CompFreq, dtype: int64"
      ]
     },
     "execution_count": 94,
     "metadata": {},
     "output_type": "execute_result"
    }
   ],
   "source": [
    "# your code goes here\n",
    "df1['CompFreq'].value_counts()"
   ]
  },
  {
   "cell_type": "markdown",
   "metadata": {},
   "source": [
    "Create a new column named 'NormalizedAnnualCompensation'. Use the hint given below if needed.\n"
   ]
  },
  {
   "cell_type": "markdown",
   "metadata": {},
   "source": [
    "Double click to see the **Hint**.\n",
    "\n",
    "<!--\n",
    "\n",
    "Use the below logic to arrive at the values for the column NormalizedAnnualCompensation.\n",
    "\n",
    "If the CompFreq is Yearly then use the exising value in CompTotal\n",
    "If the CompFreq is Monthly then multiply the value in CompTotal with 12 (months in an year)\n",
    "If the CompFreq is Weekly then multiply the value in CompTotal with 52 (weeks in an year)\n",
    "\n",
    "-->\n"
   ]
  },
  {
   "cell_type": "code",
   "execution_count": 95,
   "metadata": {
    "tags": []
   },
   "outputs": [
    {
     "data": {
      "text/plain": [
       "array(['Yearly', 'Monthly', 'Weekly', nan], dtype=object)"
      ]
     },
     "execution_count": 95,
     "metadata": {},
     "output_type": "execute_result"
    }
   ],
   "source": [
    "df1['CompFreq'].unique()\n"
   ]
  },
  {
   "cell_type": "code",
   "execution_count": 96,
   "metadata": {
    "tags": []
   },
   "outputs": [
    {
     "name": "stderr",
     "output_type": "stream",
     "text": [
      "/home/jupyterlab/conda/envs/python/lib/python3.7/site-packages/ipykernel_launcher.py:15: SettingWithCopyWarning: \n",
      "A value is trying to be set on a copy of a slice from a DataFrame.\n",
      "Try using .loc[row_indexer,col_indexer] = value instead\n",
      "\n",
      "See the caveats in the documentation: https://pandas.pydata.org/pandas-docs/stable/user_guide/indexing.html#returning-a-view-versus-a-copy\n",
      "  from ipykernel import kernelapp as app\n"
     ]
    },
    {
     "data": {
      "text/plain": [
       "98000.0"
      ]
     },
     "execution_count": 96,
     "metadata": {},
     "output_type": "execute_result"
    }
   ],
   "source": [
    "def normal(freq, total):\n",
    "    result = 0\n",
    "    if freq == 'Yearly':\n",
    "        \n",
    "        result = total\n",
    "    elif freq == 'Monthly':\n",
    "    \n",
    "        result = total *12\n",
    "    elif freq == 'Weekly':\n",
    "        \n",
    "        result = total *52\n",
    "        \n",
    "    return result\n",
    "\n",
    "df1['NormalizedAnnualCompensation'] = df1.apply(lambda x : normal(x['CompFreq'], x['CompTotal']), axis =1)\n",
    "\n",
    "#df1['NormalizedAnnualCompensation'].\n",
    "\n",
    "df1['NormalizedAnnualCompensation'].median()\n",
    "\n",
    "#don't know why median in quiz wase 100000\n"
   ]
  },
  {
   "cell_type": "markdown",
   "metadata": {},
   "source": [
    "## Authors\n"
   ]
  },
  {
   "cell_type": "markdown",
   "metadata": {},
   "source": [
    "Ramesh Sannareddy\n"
   ]
  },
  {
   "cell_type": "markdown",
   "metadata": {},
   "source": [
    "### Other Contributors\n"
   ]
  },
  {
   "cell_type": "markdown",
   "metadata": {},
   "source": [
    "Rav Ahuja\n"
   ]
  },
  {
   "cell_type": "markdown",
   "metadata": {},
   "source": [
    "## Change Log\n"
   ]
  },
  {
   "cell_type": "markdown",
   "metadata": {},
   "source": [
    "| Date (YYYY-MM-DD) | Version | Changed By        | Change Description                 |\n",
    "| ----------------- | ------- | ----------------- | ---------------------------------- |\n",
    "| 2020-10-17        | 0.1     | Ramesh Sannareddy | Created initial version of the lab |\n"
   ]
  },
  {
   "cell_type": "markdown",
   "metadata": {},
   "source": [
    " Copyright © 2020 IBM Corporation. This notebook and its source code are released under the terms of the [MIT License](https://cognitiveclass.ai/mit-license?utm_medium=Exinfluencer&utm_source=Exinfluencer&utm_content=000026UJ&utm_term=10006555&utm_id=NA-SkillsNetwork-Channel-SkillsNetworkCoursesIBMDA0321ENSkillsNetwork928-2022-01-01&cm_mmc=Email_Newsletter-_-Developer_Ed%2BTech-_-WW_WW-_-SkillsNetwork-Courses-IBM-DA0321EN-SkillsNetwork-21426264&cm_mmca1=000026UJ&cm_mmca2=10006555&cm_mmca3=M12345678&cvosrc=email.Newsletter.M12345678&cvo_campaign=000026UJ).\n"
   ]
  }
 ],
 "metadata": {
  "kernelspec": {
   "display_name": "Python",
   "language": "python",
   "name": "conda-env-python-py"
  },
  "language_info": {
   "codemirror_mode": {
    "name": "ipython",
    "version": 3
   },
   "file_extension": ".py",
   "mimetype": "text/x-python",
   "name": "python",
   "nbconvert_exporter": "python",
   "pygments_lexer": "ipython3",
   "version": "3.7.12"
  }
 },
 "nbformat": 4,
 "nbformat_minor": 4
}
